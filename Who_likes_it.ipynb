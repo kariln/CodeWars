{
 "cells": [
  {
   "cell_type": "code",
   "execution_count": 142,
   "metadata": {},
   "outputs": [],
   "source": [
    "def likes(names):\n",
    "    str = []\n",
    "    space = \" \"\n",
    "    length = len(names)\n",
    "    \n",
    "    #no likes\n",
    "    if length == 0:\n",
    "        str = 'no one likes this'\n",
    "    \n",
    "    #one person likes the post\n",
    "    elif length < 2:\n",
    "        str = (names[0] + ' likes this')\n",
    "    \n",
    "    #less than 4 people like the post\n",
    "    elif length < 4:\n",
    "        for i in range(0,length):\n",
    "            if i < length - 2:\n",
    "                str.append(names[i] + ',')\n",
    "            elif i == length- 2:\n",
    "                str.append(names[i] + ' and')\n",
    "            else:\n",
    "                str.append(names[i])\n",
    "                \n",
    "        str.append('like this')\n",
    "        str = space.join(str)\n",
    "        \n",
    "    #4 or more people like the post\n",
    "    else:\n",
    "        number = len(names)-2\n",
    "        str = '%s, %s and %s others like this' % (names[0], names[1],number)\n",
    "        \n",
    "    return str"
   ]
  },
  {
   "cell_type": "code",
   "execution_count": 80,
   "metadata": {},
   "outputs": [
    {
     "data": {
      "text/plain": [
       "'no one likes this'"
      ]
     },
     "execution_count": 80,
     "metadata": {},
     "output_type": "execute_result"
    }
   ],
   "source": [
    "likes([])"
   ]
  },
  {
   "cell_type": "code",
   "execution_count": 81,
   "metadata": {},
   "outputs": [
    {
     "data": {
      "text/plain": [
       "'Peter likes this'"
      ]
     },
     "execution_count": 81,
     "metadata": {},
     "output_type": "execute_result"
    }
   ],
   "source": [
    "likes(['Peter'])"
   ]
  },
  {
   "cell_type": "code",
   "execution_count": 82,
   "metadata": {},
   "outputs": [
    {
     "data": {
      "text/plain": [
       "'Jacob and Alex like this'"
      ]
     },
     "execution_count": 82,
     "metadata": {},
     "output_type": "execute_result"
    }
   ],
   "source": [
    "likes(['Jacob', 'Alex'])"
   ]
  },
  {
   "cell_type": "code",
   "execution_count": 83,
   "metadata": {},
   "outputs": [
    {
     "data": {
      "text/plain": [
       "'Max, John and Mark like this'"
      ]
     },
     "execution_count": 83,
     "metadata": {},
     "output_type": "execute_result"
    }
   ],
   "source": [
    "likes(['Max', 'John', 'Mark'])"
   ]
  },
  {
   "cell_type": "code",
   "execution_count": 143,
   "metadata": {},
   "outputs": [
    {
     "name": "stdout",
     "output_type": "stream",
     "text": [
      "2\n"
     ]
    },
    {
     "data": {
      "text/plain": [
       "'Alex, Jacob and 2 others like this'"
      ]
     },
     "execution_count": 143,
     "metadata": {},
     "output_type": "execute_result"
    }
   ],
   "source": [
    "likes(['Alex', 'Jacob', 'Mark', 'Max'])"
   ]
  },
  {
   "cell_type": "code",
   "execution_count": null,
   "metadata": {},
   "outputs": [],
   "source": []
  }
 ],
 "metadata": {
  "kernelspec": {
   "display_name": "Python 3",
   "language": "python",
   "name": "python3"
  },
  "language_info": {
   "codemirror_mode": {
    "name": "ipython",
    "version": 3
   },
   "file_extension": ".py",
   "mimetype": "text/x-python",
   "name": "python",
   "nbconvert_exporter": "python",
   "pygments_lexer": "ipython3",
   "version": "3.7.3"
  }
 },
 "nbformat": 4,
 "nbformat_minor": 2
}
