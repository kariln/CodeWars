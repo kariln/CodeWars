{
 "cells": [
  {
   "cell_type": "code",
   "execution_count": 56,
   "metadata": {},
   "outputs": [],
   "source": [
    "import numpy as np\n",
    "def manhattan_distance(point1,point2):\n",
    "    return abs(point1[0] - point2[0]) + abs(point1[1] - point2[1])\n",
    "\n",
    "def advice(agents, n):\n",
    "    try:\n",
    "        city = np.full((n,n), float(\"inf\"))\n",
    "        for agent in agents:\n",
    "            for i in range(0,n):\n",
    "                for j in range(0,n):\n",
    "                    dist = manhattan_distance((i,j),agent)\n",
    "                    if dist < city[i][j]:\n",
    "                        city[i][j] = dist\n",
    "        print(np.max(city))\n",
    "        result = np.where(city == np.max(city))\n",
    "    except:\n",
    "        return []\n",
    "    print(result)\n",
    "    return result\n",
    "                    "
   ]
  },
  {
   "cell_type": "code",
   "execution_count": 57,
   "metadata": {},
   "outputs": [
    {
     "name": "stdout",
     "output_type": "stream",
     "text": [
      "2.0\n",
      "(array([0], dtype=int64), array([0], dtype=int64))\n",
      "[(0, 0)]\n"
     ]
    }
   ],
   "source": [
    "advice([(1, 1)], 2)\n",
    "print([(0, 0)])\n",
    "    "
   ]
  },
  {
   "cell_type": "code",
   "execution_count": null,
   "metadata": {},
   "outputs": [],
   "source": [
    "advice([(1, 1)], 0)\n",
    "print([])\n",
    "        \n",
    "advice([(0, 0), (1, 5), (5, 1)], 6)\n",
    "print(([(2, 2), (3, 3), (4, 4), (5, 5)]))\n",
    "    \n",
    "\n",
    "agents = []\n",
    "for x in range(10):\n",
    "    for y in range(10):\n",
    "        agents.append((x, y))\n",
    "        advice(agents, 10)\n",
    "        print([])\n",
    "\n",
    "advice([(9, 9)], 1)\n",
    "print([(0, 0)])\n",
    "    \n",
    "advice([(1, 1), (3, 5), (4, 8), (7, 3), (7, 8), (9, 1)], 10)\n",
    "print([(0, 9), (0, 7), (5, 0)])\n",
    "    \n",
    "advice([(1, 3), (2, 3), (2, 7), (4, 1), (5, 9), (7, 0), (9, 5)], 10)\n",
    "print([(0, 0), (0, 9), (4, 5), (5, 5), (5, 4), (6, 3), (6, 4),(6,6), (7, 7), (8, 8), (9, 9)])\n",
    "\n",
    "advice([(0, 0), (0, 9), (1, 5), (5, 1), (9, 0), (9, 9)], 10)\n",
    "print([(5, 7), (6, 6), (7, 5)])\n",
    "    \n",
    "advice([(0, 0)], 10)\n",
    "print([(9, 9)])\n",
    "\n",
    "advice([(0, 0), (1, 1), (99, 99)], 2)\n",
    "print([(0, 1), (1, 0)])"
   ]
  },
  {
   "cell_type": "code",
   "execution_count": null,
   "metadata": {},
   "outputs": [],
   "source": []
  }
 ],
 "metadata": {
  "kernelspec": {
   "display_name": "Python 3",
   "language": "python",
   "name": "python3"
  },
  "language_info": {
   "codemirror_mode": {
    "name": "ipython",
    "version": 3
   },
   "file_extension": ".py",
   "mimetype": "text/x-python",
   "name": "python",
   "nbconvert_exporter": "python",
   "pygments_lexer": "ipython3",
   "version": "3.7.3"
  }
 },
 "nbformat": 4,
 "nbformat_minor": 2
}
