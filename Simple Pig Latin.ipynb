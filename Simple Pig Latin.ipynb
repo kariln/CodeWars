{
 "cells": [
  {
   "cell_type": "code",
   "execution_count": 43,
   "metadata": {},
   "outputs": [],
   "source": [
    "import copy \n",
    "def pig_it(text):\n",
    "    text_l = text.split( )\n",
    "    for l in text_l:\n",
    "        length = len(l)\n",
    "        temp1 = copy.deepcopy(l[0])\n",
    "        temp2 = copy.deepcopy(l[length-1])\n",
    "        print(l)\n",
    "        l = l.replace(l[0], temp2)\n",
    "        print(l)\n",
    "        #l[0] = temp2\n",
    "        l = l.replace(l[length-1], temp1)\n",
    "        print(l)\n",
    "        #l[length] = temp1\n",
    "    text_l = \" \".join(text_l)    \n",
    "    print(text_l)\n",
    "    return text_l\n",
    "    "
   ]
  },
  {
   "cell_type": "code",
   "execution_count": 44,
   "metadata": {},
   "outputs": [
    {
     "name": "stdout",
     "output_type": "stream",
     "text": [
      "Pig\n",
      "gig\n",
      "PiP\n",
      "latin\n",
      "natin\n",
      "latil\n",
      "is\n",
      "ss\n",
      "ii\n",
      "cool\n",
      "lool\n",
      "cooc\n",
      "Pig latin is cool\n",
      "This\n",
      "shis\n",
      "ThiT\n",
      "is\n",
      "ss\n",
      "ii\n",
      "my\n",
      "yy\n",
      "mm\n",
      "string\n",
      "gtring\n",
      "strins\n",
      "This is my string\n"
     ]
    },
    {
     "data": {
      "text/plain": [
       "'This is my string'"
      ]
     },
     "execution_count": 44,
     "metadata": {},
     "output_type": "execute_result"
    }
   ],
   "source": [
    "pig_it('Pig latin is cool')\n",
    "#print()'igPay atinlay siay oolcay')\n",
    "pig_it('This is my string')\n",
    "#print('hisTay siay ymay tringsay')"
   ]
  },
  {
   "cell_type": "code",
   "execution_count": null,
   "metadata": {},
   "outputs": [],
   "source": []
  }
 ],
 "metadata": {
  "kernelspec": {
   "display_name": "Python 3",
   "language": "python",
   "name": "python3"
  },
  "language_info": {
   "codemirror_mode": {
    "name": "ipython",
    "version": 3
   },
   "file_extension": ".py",
   "mimetype": "text/x-python",
   "name": "python",
   "nbconvert_exporter": "python",
   "pygments_lexer": "ipython3",
   "version": "3.7.3"
  }
 },
 "nbformat": 4,
 "nbformat_minor": 2
}
