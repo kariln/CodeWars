{
 "cells": [
  {
   "cell_type": "code",
   "execution_count": 73,
   "metadata": {},
   "outputs": [],
   "source": [
    "import copy \n",
    "def pig_it(text):\n",
    "    text_l = text.split( )\n",
    "    result = []\n",
    "    for l in text_l:\n",
    "        if l.isalpha():\n",
    "            length = len(l)\n",
    "            letters = list(l)\n",
    "            first = letters.pop(0)\n",
    "            letters.append(first)\n",
    "            letters.append('ay')\n",
    "            result.append(\"\".join(letters))\n",
    "        else:\n",
    "            result.append(l)\n",
    "    result = \" \".join(result)    \n",
    "    return result\n",
    "    "
   ]
  },
  {
   "cell_type": "code",
   "execution_count": 74,
   "metadata": {},
   "outputs": [
    {
     "name": "stdout",
     "output_type": "stream",
     "text": [
      "igPay atinlay siay oolcay\n",
      "hisTay siay ymay tringsay\n"
     ]
    },
    {
     "data": {
      "text/plain": [
       "'hisTay siay ymay tringsay'"
      ]
     },
     "execution_count": 74,
     "metadata": {},
     "output_type": "execute_result"
    }
   ],
   "source": [
    "pig_it('Pig latin is cool')\n",
    "#print()'igPay atinlay siay oolcay')\n",
    "pig_it('This is my string')\n",
    "#print('hisTay siay ymay tringsay')"
   ]
  },
  {
   "cell_type": "code",
   "execution_count": null,
   "metadata": {},
   "outputs": [],
   "source": []
  }
 ],
 "metadata": {
  "kernelspec": {
   "display_name": "Python 3",
   "language": "python",
   "name": "python3"
  },
  "language_info": {
   "codemirror_mode": {
    "name": "ipython",
    "version": 3
   },
   "file_extension": ".py",
   "mimetype": "text/x-python",
   "name": "python",
   "nbconvert_exporter": "python",
   "pygments_lexer": "ipython3",
   "version": "3.7.3"
  }
 },
 "nbformat": 4,
 "nbformat_minor": 2
}
