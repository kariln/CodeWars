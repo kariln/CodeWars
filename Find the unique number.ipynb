{
 "cells": [
  {
   "cell_type": "code",
   "execution_count": 8,
   "metadata": {},
   "outputs": [],
   "source": [
    "def find_uniq(arr):\n",
    "    for i in range(0,len(arr)+1):\n",
    "        if i == len(arr):\n",
    "            return arr[i]\n",
    "        if arr[i] != arr[i+1]:\n",
    "            if i == 0 and arr[i] != arr[i+1]:\n",
    "                return arr[i]\n",
    "            return arr[i+1]\n",
    "    return None"
   ]
  },
  {
   "cell_type": "code",
   "execution_count": 9,
   "metadata": {},
   "outputs": [
    {
     "name": "stdout",
     "output_type": "stream",
     "text": [
      "2\n",
      "0.55\n",
      "10\n"
     ]
    }
   ],
   "source": [
    "find_uniq([ 1, 1, 1, 2, 1, 1 ])\n",
    "print(2)\n",
    "find_uniq([ 0, 0, 0.55, 0, 0 ])\n",
    "print(0.55)\n",
    "find_uniq([ 3, 10, 3, 3, 3 ])\n",
    "print(10)"
   ]
  },
  {
   "cell_type": "code",
   "execution_count": null,
   "metadata": {},
   "outputs": [],
   "source": []
  }
 ],
 "metadata": {
  "kernelspec": {
   "display_name": "Python 3",
   "language": "python",
   "name": "python3"
  },
  "language_info": {
   "codemirror_mode": {
    "name": "ipython",
    "version": 3
   },
   "file_extension": ".py",
   "mimetype": "text/x-python",
   "name": "python",
   "nbconvert_exporter": "python",
   "pygments_lexer": "ipython3",
   "version": "3.7.3"
  }
 },
 "nbformat": 4,
 "nbformat_minor": 2
}
