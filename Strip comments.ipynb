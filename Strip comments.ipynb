{
 "cells": [
  {
   "cell_type": "code",
   "execution_count": 13,
   "metadata": {},
   "outputs": [],
   "source": [
    "def solution(string,markers):\n",
    "    res = string.split(\"\\n\");\n",
    "    for i in range(len(res)):\n",
    "        for marker in markers:\n",
    "            if marker in res[i]:\n",
    "                res[i] = (res[i].split(marker)[0]).strip();\n",
    "    separator = '\\n';\n",
    "    res = separator.join(res);\n",
    "    return res"
   ]
  },
  {
   "cell_type": "code",
   "execution_count": 14,
   "metadata": {},
   "outputs": [
    {
     "name": "stdout",
     "output_type": "stream",
     "text": [
      "apples, pears\n",
      "bananas\n",
      "['apples, pears', 'grapes', 'bananas']\n",
      "apples, pears\n",
      "grapes\n",
      "bananas\n"
     ]
    },
    {
     "data": {
      "text/plain": [
       "True"
      ]
     },
     "execution_count": 14,
     "metadata": {},
     "output_type": "execute_result"
    }
   ],
   "source": [
    "solution(\"apples, pears # and bananas\\ngrapes\\nbananas !apples\", [\"#\", \"!\"]) ==  \"apples, pears\\ngrapes\\nbananas\"\n"
   ]
  },
  {
   "cell_type": "code",
   "execution_count": null,
   "metadata": {},
   "outputs": [],
   "source": [
    "solution(\"a #b\\nc\\nd $e f g\", [\"#\", \"$\"]) == \"a\\nc\\nd\""
   ]
  }
 ],
 "metadata": {
  "kernelspec": {
   "display_name": "Python 3",
   "language": "python",
   "name": "python3"
  },
  "language_info": {
   "codemirror_mode": {
    "name": "ipython",
    "version": 3
   },
   "file_extension": ".py",
   "mimetype": "text/x-python",
   "name": "python",
   "nbconvert_exporter": "python",
   "pygments_lexer": "ipython3",
   "version": "3.7.3"
  }
 },
 "nbformat": 4,
 "nbformat_minor": 2
}
