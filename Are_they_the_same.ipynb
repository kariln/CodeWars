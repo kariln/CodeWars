{
 "cells": [
  {
   "cell_type": "code",
   "execution_count": 32,
   "metadata": {},
   "outputs": [],
   "source": [
    "import math\n",
    "def comp(array1, array2):\n",
    "    if array1 == None or array2 == None or len(array1) != len(array2):\n",
    "        return False\n",
    "    for elem in array1:\n",
    "        if int(elem**2) not in array2:\n",
    "            return False\n",
    "        \n",
    "        #handling negative numbers\n",
    "        if elem < 0: \n",
    "            for elem2 in array2:\n",
    "                if math.sqrt(elem2)*(-1) not in array1:\n",
    "                    return False\n",
    "    for elem in array2:\n",
    "        if math.sqrt(elem) not in array1:\n",
    "            return False\n",
    "    return True"
   ]
  },
  {
   "cell_type": "code",
   "execution_count": 33,
   "metadata": {},
   "outputs": [
    {
     "data": {
      "text/plain": [
       "True"
      ]
     },
     "execution_count": 33,
     "metadata": {},
     "output_type": "execute_result"
    }
   ],
   "source": [
    "a1 = [121, 144, 19, 161, 19, 144, 19, 11]\n",
    "a2 = [11*11, 121*121, 144*144, 19*19, 161*161, 19*19, 144*144, 19*19]\n",
    "comp(a1, a2)"
   ]
  },
  {
   "cell_type": "code",
   "execution_count": null,
   "metadata": {},
   "outputs": [],
   "source": []
  },
  {
   "cell_type": "code",
   "execution_count": null,
   "metadata": {},
   "outputs": [],
   "source": []
  }
 ],
 "metadata": {
  "kernelspec": {
   "display_name": "Python 3",
   "language": "python",
   "name": "python3"
  },
  "language_info": {
   "codemirror_mode": {
    "name": "ipython",
    "version": 3
   },
   "file_extension": ".py",
   "mimetype": "text/x-python",
   "name": "python",
   "nbconvert_exporter": "python",
   "pygments_lexer": "ipython3",
   "version": "3.7.3"
  }
 },
 "nbformat": 4,
 "nbformat_minor": 2
}
