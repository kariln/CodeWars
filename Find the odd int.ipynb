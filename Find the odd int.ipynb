{
 "cells": [
  {
   "cell_type": "code",
   "execution_count": 14,
   "metadata": {},
   "outputs": [],
   "source": [
    "def find_it(seq):\n",
    "    for elem in seq:\n",
    "        length = len(list(filter(lambda x: (x == elem),seq)))\n",
    "        if length%2 != 0:\n",
    "            return elem\n",
    "    return None"
   ]
  },
  {
   "cell_type": "code",
   "execution_count": 15,
   "metadata": {},
   "outputs": [
    {
     "name": "stdout",
     "output_type": "stream",
     "text": [
      "5\n",
      "5\n",
      "-1\n",
      "-1\n",
      "5\n",
      "5\n",
      "10\n",
      "10\n",
      "10\n",
      "10\n",
      "1\n",
      "1\n"
     ]
    }
   ],
   "source": [
    "find_it([20,1,-1,2,-2,3,3,5,5,1,2,4,20,4,-1,-2,5])\n",
    "print(5)\n",
    "find_it([1,1,2,-2,5,2,4,4,-1,-2,5])\n",
    "print(-1) \n",
    "find_it([20,1,1,2,2,3,3,5,5,4,20,4,5]) \n",
    "print(5)\n",
    "find_it([10])\n",
    "print(10)\n",
    "find_it([1,1,1,1,1,1,10,1,1,1,1])\n",
    "print(10)\n",
    "find_it([5,4,3,2,1,5,4,3,2,10,10])\n",
    "print(1)"
   ]
  },
  {
   "cell_type": "code",
   "execution_count": null,
   "metadata": {},
   "outputs": [],
   "source": []
  }
 ],
 "metadata": {
  "kernelspec": {
   "display_name": "Python 3",
   "language": "python",
   "name": "python3"
  },
  "language_info": {
   "codemirror_mode": {
    "name": "ipython",
    "version": 3
   },
   "file_extension": ".py",
   "mimetype": "text/x-python",
   "name": "python",
   "nbconvert_exporter": "python",
   "pygments_lexer": "ipython3",
   "version": "3.7.3"
  }
 },
 "nbformat": 4,
 "nbformat_minor": 2
}
