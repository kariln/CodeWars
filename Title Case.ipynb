{
 "cells": [
  {
   "cell_type": "code",
   "execution_count": 43,
   "metadata": {},
   "outputs": [],
   "source": [
    "def title_case(title, minor_words = ''):\n",
    "    title = title.split()\n",
    "    minor_words = (minor_words.lower()).split()\n",
    "    for i in range(0,len(title)):\n",
    "        if i == 0 or (title[i].lower() not in minor_words):\n",
    "            title[i] = title[i].lower()\n",
    "            title[i] = title[i].title()\n",
    "        else:\n",
    "            title[i] = title[i].lower()\n",
    "    title = ' '.join(title)\n",
    "    return title"
   ]
  },
  {
   "cell_type": "code",
   "execution_count": 44,
   "metadata": {},
   "outputs": [
    {
     "name": "stdout",
     "output_type": "stream",
     "text": [
      "[]\n",
      "\n",
      "\n",
      "['a', 'an', 'the', 'of']\n",
      "A Clash of Kings\n",
      "A Clash of Kings\n",
      "['the', 'in']\n",
      "The Wind in the Willows\n",
      "The Wind in the Willows\n",
      "[]\n",
      "The Quick Brown Fox\n",
      "The Quick Brown Fox\n"
     ]
    }
   ],
   "source": [
    "title_case('')\n",
    "print('')\n",
    "title_case('a clash of KINGS', 'a an the of')\n",
    "print('A Clash of Kings')\n",
    "title_case('THE WIND IN THE WILLOWS', 'The In')\n",
    "print('The Wind in the Willows')\n",
    "title_case('the quick brown fox')\n",
    "print('The Quick Brown Fox')"
   ]
  },
  {
   "cell_type": "code",
   "execution_count": null,
   "metadata": {},
   "outputs": [],
   "source": []
  }
 ],
 "metadata": {
  "kernelspec": {
   "display_name": "Python 3",
   "language": "python",
   "name": "python3"
  },
  "language_info": {
   "codemirror_mode": {
    "name": "ipython",
    "version": 3
   },
   "file_extension": ".py",
   "mimetype": "text/x-python",
   "name": "python",
   "nbconvert_exporter": "python",
   "pygments_lexer": "ipython3",
   "version": "3.7.3"
  }
 },
 "nbformat": 4,
 "nbformat_minor": 2
}
