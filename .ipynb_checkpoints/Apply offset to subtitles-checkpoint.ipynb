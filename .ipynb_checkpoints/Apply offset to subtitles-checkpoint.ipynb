{
 "cells": [
  {
   "cell_type": "code",
   "execution_count": 3,
   "metadata": {},
   "outputs": [],
   "source": [
    "import math;\n",
    "\n",
    "def add_offset(time,offset):\n",
    "\n",
    "def subs_offset_apply(string, offset):\n",
    "    #First create time from offset\n",
    "    hours = math.floor(offset/(1000*60*60));\n",
    "    offset = offset - hours*1000*60*60;\n",
    "    minutes = math.floor(offset/(60*1000));\n",
    "    offset = offset - minutes*1000*60;\n",
    "    seconds = math.floor(offset/1000);\n",
    "    milliseconds = offset - seconds*1000;\n",
    "    \n",
    "    spl = string.split(\" \");\n",
    "    time1 = spl[0];\n",
    "    time2 = spl[1];\n",
    "    \n",
    "    print(spl)"
   ]
  },
  {
   "cell_type": "code",
   "execution_count": 4,
   "metadata": {},
   "outputs": [
    {
     "ename": "TypeError",
     "evalue": "'str' object cannot be interpreted as an integer",
     "output_type": "error",
     "traceback": [
      "\u001b[1;31m---------------------------------------------------------------------------\u001b[0m",
      "\u001b[1;31mTypeError\u001b[0m                                 Traceback (most recent call last)",
      "\u001b[1;32m<ipython-input-4-1083e340cc0c>\u001b[0m in \u001b[0;36m<module>\u001b[1;34m\u001b[0m\n\u001b[1;32m----> 1\u001b[1;33m \u001b[0mresult1\u001b[0m \u001b[1;33m=\u001b[0m \u001b[0msubs_offset_apply\u001b[0m\u001b[1;33m(\u001b[0m\u001b[1;34m\"01:09:02,684 --> 01:09:03,601 Run Forrest, run!\"\u001b[0m\u001b[1;33m,\u001b[0m \u001b[1;36m3663655\u001b[0m\u001b[1;33m)\u001b[0m\u001b[1;33m\u001b[0m\u001b[1;33m\u001b[0m\u001b[0m\n\u001b[0m\u001b[0;32m      2\u001b[0m \u001b[0mresult1\u001b[0m \u001b[1;33m==\u001b[0m \u001b[1;34m\"02:10:06,339 --> 02:10:07,256 Run Forrest, run!\"\u001b[0m\u001b[1;33m\u001b[0m\u001b[1;33m\u001b[0m\u001b[0m\n",
      "\u001b[1;32m<ipython-input-3-57076fb73f31>\u001b[0m in \u001b[0;36msubs_offset_apply\u001b[1;34m(string, offset)\u001b[0m\n\u001b[0;32m      9\u001b[0m     \u001b[0mmilliseconds\u001b[0m \u001b[1;33m=\u001b[0m \u001b[0moffset\u001b[0m \u001b[1;33m-\u001b[0m \u001b[0mseconds\u001b[0m\u001b[1;33m*\u001b[0m\u001b[1;36m1000\u001b[0m\u001b[1;33m;\u001b[0m\u001b[1;33m\u001b[0m\u001b[1;33m\u001b[0m\u001b[0m\n\u001b[0;32m     10\u001b[0m \u001b[1;33m\u001b[0m\u001b[0m\n\u001b[1;32m---> 11\u001b[1;33m     \u001b[0mspl\u001b[0m \u001b[1;33m=\u001b[0m \u001b[0mstring\u001b[0m\u001b[1;33m.\u001b[0m\u001b[0msplit\u001b[0m\u001b[1;33m(\u001b[0m\u001b[1;34m\":\"\u001b[0m\u001b[1;33m,\u001b[0m\u001b[1;34m\",\"\u001b[0m\u001b[1;33m)\u001b[0m\u001b[1;33m;\u001b[0m\u001b[1;33m\u001b[0m\u001b[1;33m\u001b[0m\u001b[0m\n\u001b[0m\u001b[0;32m     12\u001b[0m     \u001b[0mprint\u001b[0m\u001b[1;33m(\u001b[0m\u001b[0mspl\u001b[0m\u001b[1;33m)\u001b[0m\u001b[1;33m\u001b[0m\u001b[1;33m\u001b[0m\u001b[0m\n",
      "\u001b[1;31mTypeError\u001b[0m: 'str' object cannot be interpreted as an integer"
     ]
    }
   ],
   "source": [
    "result1 = subs_offset_apply(\"01:09:02,684 --> 01:09:03,601 Run Forrest, run!\", 3663655) \n",
    "result1 == \"02:10:06,339 --> 02:10:07,256 Run Forrest, run!\""
   ]
  },
  {
   "cell_type": "code",
   "execution_count": null,
   "metadata": {},
   "outputs": [],
   "source": [
    "result2 = subs_offset_apply(\"00:43:22,074 --> 00:43:24,159 No, I am your father.\", 1789) \n",
    "result2 == \"00:43:23,863 --> 00:43:25,948 No, I am your father.\""
   ]
  },
  {
   "cell_type": "code",
   "execution_count": null,
   "metadata": {},
   "outputs": [],
   "source": [
    "result3 = subs_offset_apply(\"00:03:06,241 --> 00:03:07,618 I'll be back.\", -21789) \n",
    "result3 == \"00:02:44,452 --> 00:02:45,829 I'll be back.\""
   ]
  },
  {
   "cell_type": "code",
   "execution_count": null,
   "metadata": {},
   "outputs": [],
   "source": [
    "result4 = subs_offset_apply(\"00:03:14,917 --> 00:03:16,001 My name is Bond. James Bond.\", -195000) \n",
    "result4 == \"Invalid offset\""
   ]
  },
  {
   "cell_type": "code",
   "execution_count": null,
   "metadata": {},
   "outputs": [],
   "source": [
    "result5 = subs_offset_apply(\"01:00:00,000 --> 01:00:02,000 Let`s start with this.\", -3600000) \n",
    "result5 == \"00:00:00,000 --> 00:00:02,000 Let`s start with this.\""
   ]
  },
  {
   "cell_type": "code",
   "execution_count": null,
   "metadata": {},
   "outputs": [],
   "source": [
    "result6 = subs_offset_apply(\"01:00:00,000 --> 01:00:02,000 Let`s finish this.\", 356397999) \n",
    "result6 == \"99:59:57,999 --> 99:59:59,999 Let`s finish this.\""
   ]
  }
 ],
 "metadata": {
  "kernelspec": {
   "display_name": "Python 3",
   "language": "python",
   "name": "python3"
  },
  "language_info": {
   "codemirror_mode": {
    "name": "ipython",
    "version": 3
   },
   "file_extension": ".py",
   "mimetype": "text/x-python",
   "name": "python",
   "nbconvert_exporter": "python",
   "pygments_lexer": "ipython3",
   "version": "3.7.3"
  }
 },
 "nbformat": 4,
 "nbformat_minor": 2
}
