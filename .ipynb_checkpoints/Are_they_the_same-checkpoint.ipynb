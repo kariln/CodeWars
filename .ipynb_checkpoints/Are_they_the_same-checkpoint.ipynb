{
 "cells": [
  {
   "cell_type": "code",
   "execution_count": 7,
   "metadata": {},
   "outputs": [],
   "source": [
    "import math\n",
    "import copy\n",
    "def comp(array1, array2):\n",
    "    array11 = copy.deepcopy(array1)\n",
    "    array22 = copy.deepcopy(array2)\n",
    "    if array1 == None or array2 == None or len(array1) != len(array2):\n",
    "        return False\n",
    "    for elem in array1:\n",
    "        if int(elem**2) not in array22:\n",
    "            return False\n",
    "        array22.remove(elem**2)\n",
    "    for elem in array2:\n",
    "        if (math.sqrt(elem) not in array11) and (math.sqrt(elem)*(-1) not in array11):\n",
    "            return False\n",
    "        if math.sqrt(elem) in array11:\n",
    "            array11.remove(math.sqrt(elem))\n",
    "        elif math.sqrt(elem)*(-1) in array11:\n",
    "            array11.remove(math.sqrt(elem)*(-1))        \n",
    "    return True"
   ]
  },
  {
   "cell_type": "code",
   "execution_count": 8,
   "metadata": {},
   "outputs": [
    {
     "data": {
      "text/plain": [
       "True"
      ]
     },
     "execution_count": 8,
     "metadata": {},
     "output_type": "execute_result"
    }
   ],
   "source": [
    "a1 = [121, 144, 19, 161, 19, 144, 19, 11]\n",
    "a2 = [11*11, 121*121, 144*144, 19*19, 161*161, 19*19, 144*144, 19*19]\n",
    "comp2(a1, a2)"
   ]
  },
  {
   "cell_type": "code",
   "execution_count": null,
   "metadata": {},
   "outputs": [],
   "source": []
  }
 ],
 "metadata": {
  "kernelspec": {
   "display_name": "Python 3",
   "language": "python",
   "name": "python3"
  },
  "language_info": {
   "codemirror_mode": {
    "name": "ipython",
    "version": 3
   },
   "file_extension": ".py",
   "mimetype": "text/x-python",
   "name": "python",
   "nbconvert_exporter": "python",
   "pygments_lexer": "ipython3",
   "version": "3.7.3"
  }
 },
 "nbformat": 4,
 "nbformat_minor": 2
}
