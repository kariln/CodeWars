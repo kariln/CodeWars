{
 "cells": [
  {
   "cell_type": "code",
   "execution_count": 58,
   "metadata": {},
   "outputs": [],
   "source": [
    "import copy \n",
    "def pig_it(text):\n",
    "    text_l = text.split( )\n",
    "    result = []\n",
    "    for l in text_l:\n",
    "        length = len(l)\n",
    "        letters = list(l)\n",
    "        letters[0], letters[length-1] = letters[length-1], letters[0]\n",
    "        letters.append('ay')\n",
    "        print(letters)\n",
    "        result.append(\"\".join(letters))\n",
    "        print(result)\n",
    "    \n",
    "    text_l = \" \".join(text_l)    \n",
    "    print(text_l)\n",
    "    return text_l\n",
    "    "
   ]
  },
  {
   "cell_type": "code",
   "execution_count": 59,
   "metadata": {},
   "outputs": [
    {
     "name": "stdout",
     "output_type": "stream",
     "text": [
      "['g', 'i', 'P', 'ay']\n",
      "giPay\n",
      "['n', 'a', 't', 'i', 'l', 'ay']\n",
      "natilay\n",
      "['s', 'i', 'ay']\n",
      "siay\n",
      "['l', 'o', 'o', 'c', 'ay']\n",
      "loocay\n",
      "Pig latin is cool\n",
      "['s', 'h', 'i', 'T', 'ay']\n",
      "shiTay\n",
      "['s', 'i', 'ay']\n",
      "siay\n",
      "['y', 'm', 'ay']\n",
      "ymay\n",
      "['g', 't', 'r', 'i', 'n', 's', 'ay']\n",
      "gtrinsay\n",
      "This is my string\n"
     ]
    },
    {
     "data": {
      "text/plain": [
       "'This is my string'"
      ]
     },
     "execution_count": 59,
     "metadata": {},
     "output_type": "execute_result"
    }
   ],
   "source": [
    "pig_it('Pig latin is cool')\n",
    "#print()'igPay atinlay siay oolcay')\n",
    "pig_it('This is my string')\n",
    "#print('hisTay siay ymay tringsay')"
   ]
  },
  {
   "cell_type": "code",
   "execution_count": null,
   "metadata": {},
   "outputs": [],
   "source": []
  }
 ],
 "metadata": {
  "kernelspec": {
   "display_name": "Python 3",
   "language": "python",
   "name": "python3"
  },
  "language_info": {
   "codemirror_mode": {
    "name": "ipython",
    "version": 3
   },
   "file_extension": ".py",
   "mimetype": "text/x-python",
   "name": "python",
   "nbconvert_exporter": "python",
   "pygments_lexer": "ipython3",
   "version": "3.7.3"
  }
 },
 "nbformat": 4,
 "nbformat_minor": 2
}
