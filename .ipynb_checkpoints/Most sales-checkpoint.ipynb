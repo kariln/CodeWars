{
 "cells": [
  {
   "cell_type": "code",
   "execution_count": 69,
   "metadata": {},
   "outputs": [],
   "source": [
    "from operator import itemgetter\n",
    "import copy \n",
    "\n",
    "def top3(products, amounts, prices):\n",
    "    prod = [-1, -1]\n",
    "    top_prod = [copy.deepcopy(prod),copy.deepcopy(prod),copy.deepcopy(prod)]\n",
    "    i = 0\n",
    "    for product in products:\n",
    "        temp = amounts[i]*prices[i]\n",
    "        if temp > top_prod[0][1]:\n",
    "            top_prod[0][0] = product\n",
    "            top_prod[0][1] = temp\n",
    "            top_prod = sorted(top_prod, key=itemgetter(1))\n",
    "        i += 1\n",
    "    res = []\n",
    "    for i in top_prod:\n",
    "        res.append(i[0])\n",
    "    return list(reversed(res))"
   ]
  },
  {
   "cell_type": "code",
   "execution_count": 70,
   "metadata": {},
   "outputs": [
    {
     "name": "stdout",
     "output_type": "stream",
     "text": [
      "['Cell Phones', 'Vacuum Cleaner', 'Computer']\n",
      "['Cell Phones', 'Vacuum Cleaner', 'Computer']\n",
      "['Vacuum Cleaner', 'Gold', ' Speakers']\n",
      "['Vacuum Cleaner', 'Gold', ' Speakers']\n",
      "['Lego', 'Gold', 'Computer']\n",
      "['Lego', 'Gold', 'Computer']\n"
     ]
    }
   ],
   "source": [
    "top3([\"Computer\", \"Cell Phones\", \"Vacuum Cleaner\"], [3,24,8], [199,299,399])\n",
    "print([\"Cell Phones\", \"Vacuum Cleaner\", \"Computer\"])\n",
    "top3([\"Cell Phones\", \"Vacuum Cleaner\", \"Computer\", \"Autos\", \"Gold\", \"Fishing Rods\", \"Lego\", \" Speakers\"], [5, 25, 2, 7, 10, 3, 2, 24], [51, 225, 22, 47, 510, 83, 82, 124])\n",
    "print(['Vacuum Cleaner', 'Gold', ' Speakers'])\n",
    "top3([\"Cell Phones\", \"Vacuum Cleaner\", \"Computer\", \"Autos\", \"Gold\", \"Fishing Rods\", \"Lego\", \" Speakers\"], [0, 12, 24, 17, 19, 23, 120, 8], [9, 24, 29, 31, 51, 8, 120, 14])\n",
    "print(['Lego', 'Gold', 'Computer'])"
   ]
  },
  {
   "cell_type": "code",
   "execution_count": null,
   "metadata": {},
   "outputs": [],
   "source": []
  }
 ],
 "metadata": {
  "kernelspec": {
   "display_name": "Python 3",
   "language": "python",
   "name": "python3"
  },
  "language_info": {
   "codemirror_mode": {
    "name": "ipython",
    "version": 3
   },
   "file_extension": ".py",
   "mimetype": "text/x-python",
   "name": "python",
   "nbconvert_exporter": "python",
   "pygments_lexer": "ipython3",
   "version": "3.7.3"
  }
 },
 "nbformat": 4,
 "nbformat_minor": 2
}
