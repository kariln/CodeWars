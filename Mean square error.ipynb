{
 "cells": [
  {
   "cell_type": "code",
   "execution_count": 11,
   "metadata": {},
   "outputs": [],
   "source": [
    "def solution(array_a, array_b):\n",
    "    if len(array_a) != len(array_b):\n",
    "        raise ValueError(\"The two arrays must be of equal length.\")\n",
    "    length = len(array_a)\n",
    "    teller = 0\n",
    "    for i in range(0,length):\n",
    "        teller += (array_a[i]-array_b[i])**2\n",
    "    return teller/length"
   ]
  },
  {
   "cell_type": "code",
   "execution_count": 12,
   "metadata": {},
   "outputs": [
    {
     "name": "stdout",
     "output_type": "stream",
     "text": [
      "9\n",
      "16.5\n",
      "1\n",
      "0\n"
     ]
    }
   ],
   "source": [
    "a1 = [1,2,3]\n",
    "a2 = [4,5,6]\n",
    "  \n",
    "solution(a1, a2)\n",
    "print(9)\n",
    "\n",
    "b1 = [10, 20, 10, 2]\n",
    "b2 = [10, 25, 5, -2]\n",
    "\n",
    "solution(b1, b2)\n",
    "print(16.5)\n",
    "\n",
    "c1 = [0, -1]\n",
    "c2 = [-1, 0]\n",
    "\n",
    "solution(c1, c2)\n",
    "print(1)\n",
    "\n",
    "d1 = [10, 10]\n",
    "d2 = [10, 10]\n",
    "\n",
    "(d1, d2)\n",
    "print(0)"
   ]
  },
  {
   "cell_type": "code",
   "execution_count": null,
   "metadata": {},
   "outputs": [],
   "source": []
  }
 ],
 "metadata": {
  "kernelspec": {
   "display_name": "Python 3",
   "language": "python",
   "name": "python3"
  },
  "language_info": {
   "codemirror_mode": {
    "name": "ipython",
    "version": 3
   },
   "file_extension": ".py",
   "mimetype": "text/x-python",
   "name": "python",
   "nbconvert_exporter": "python",
   "pygments_lexer": "ipython3",
   "version": "3.7.3"
  }
 },
 "nbformat": 4,
 "nbformat_minor": 2
}
