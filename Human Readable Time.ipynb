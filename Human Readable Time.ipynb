{
 "cells": [
  {
   "cell_type": "code",
   "execution_count": 5,
   "metadata": {},
   "outputs": [],
   "source": [
    "import math\n",
    "def make_readable(seconds):\n",
    "\n",
    "    hours = math.floor(seconds/3600);\n",
    "    if hours>99 or hours<0:\n",
    "        return False\n",
    "    seconds = seconds - 3600*hours;\n",
    "    minutes = math.floor(seconds/60);\n",
    "    if minutes > 59 or minutes < 0:\n",
    "        return False\n",
    "    seconds = seconds -60*minutes;\n",
    "    if seconds > 59 or seconds<0:\n",
    "        return False\n",
    "    res = str(hours).zfill(2) + \":\" + str(minutes).zfill(2) + \":\" + str(seconds).zfill(2);\n",
    "    return res"
   ]
  },
  {
   "cell_type": "code",
   "execution_count": 6,
   "metadata": {},
   "outputs": [
    {
     "name": "stdout",
     "output_type": "stream",
     "text": [
      "00:00:00\n",
      "00:00:00\n"
     ]
    }
   ],
   "source": [
    "make_readable(0)\n",
    "print(\"00:00:00\")"
   ]
  },
  {
   "cell_type": "code",
   "execution_count": 7,
   "metadata": {},
   "outputs": [
    {
     "name": "stdout",
     "output_type": "stream",
     "text": [
      "00:00:05\n",
      "00:00:05\n"
     ]
    }
   ],
   "source": [
    "make_readable(5)\n",
    "print(\"00:00:05\")"
   ]
  },
  {
   "cell_type": "code",
   "execution_count": 8,
   "metadata": {},
   "outputs": [
    {
     "name": "stdout",
     "output_type": "stream",
     "text": [
      "00:01:00\n",
      "00:01:00\n"
     ]
    }
   ],
   "source": [
    "make_readable(60)\n",
    "print(\"00:01:00\")"
   ]
  },
  {
   "cell_type": "code",
   "execution_count": 9,
   "metadata": {},
   "outputs": [
    {
     "name": "stdout",
     "output_type": "stream",
     "text": [
      "23:59:59\n",
      "23:59:59\n"
     ]
    }
   ],
   "source": [
    "make_readable(86399)\n",
    "print(\"23:59:59\")"
   ]
  },
  {
   "cell_type": "code",
   "execution_count": 10,
   "metadata": {},
   "outputs": [
    {
     "name": "stdout",
     "output_type": "stream",
     "text": [
      "99:59:59\n",
      "99:59:59\n"
     ]
    }
   ],
   "source": [
    "make_readable(359999)\n",
    "print(\"99:59:59\")"
   ]
  },
  {
   "cell_type": "code",
   "execution_count": null,
   "metadata": {},
   "outputs": [],
   "source": []
  }
 ],
 "metadata": {
  "kernelspec": {
   "display_name": "Python 3",
   "language": "python",
   "name": "python3"
  },
  "language_info": {
   "codemirror_mode": {
    "name": "ipython",
    "version": 3
   },
   "file_extension": ".py",
   "mimetype": "text/x-python",
   "name": "python",
   "nbconvert_exporter": "python",
   "pygments_lexer": "ipython3",
   "version": "3.7.3"
  }
 },
 "nbformat": 4,
 "nbformat_minor": 2
}
