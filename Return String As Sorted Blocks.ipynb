{
 "cells": [
  {
   "cell_type": "code",
   "execution_count": 1,
   "metadata": {},
   "outputs": [],
   "source": [
    "def representsInt(s):\n",
    "    try:\n",
    "        int(s)\n",
    "        return True\n",
    "    except ValueError:\n",
    "        return False\n",
    "        "
   ]
  },
  {
   "cell_type": "code",
   "execution_count": 2,
   "metadata": {},
   "outputs": [
    {
     "data": {
      "text/plain": [
       "False"
      ]
     },
     "execution_count": 2,
     "metadata": {},
     "output_type": "execute_result"
    }
   ],
   "source": [
    "representsInt('s')"
   ]
  },
  {
   "cell_type": "code",
   "execution_count": 3,
   "metadata": {},
   "outputs": [
    {
     "data": {
      "text/plain": [
       "True"
      ]
     },
     "execution_count": 3,
     "metadata": {},
     "output_type": "execute_result"
    }
   ],
   "source": [
    "representsInt('1')"
   ]
  },
  {
   "cell_type": "code",
   "execution_count": 4,
   "metadata": {},
   "outputs": [],
   "source": [
    "def blocks(s):\n",
    "    s_n = []\n",
    "    s_c = []\n",
    "    s_C = []\n",
    "    for ch in s:\n",
    "        if representsInt(ch):\n",
    "            if s_n == []:\n",
    "                s_n.append(ch)\n",
    "            elif s_n != []:\n",
    "                index = 0\n",
    "                var = 0\n",
    "                for i in s_n:\n",
    "                    if not ch in i:\n",
    "                        s_n[index] += ch\n",
    "                        var = 1\n",
    "                        break\n",
    "                    index += 1\n",
    "                if var == 0:\n",
    "                    s_n.append(ch)\n",
    "        elif ch.isalpha():\n",
    "            if ch.islower():\n",
    "                if s_c == []:\n",
    "                    s_c.append(ch)\n",
    "                elif s_c != []:\n",
    "                    index = 0\n",
    "                    var = 0\n",
    "                    for i in s_c:\n",
    "                        if not ch in i:\n",
    "                            s_c[index] += ch\n",
    "                            var = 1\n",
    "                            break\n",
    "                        index += 1\n",
    "                    if var == 0:\n",
    "                        s_c.append(ch)\n",
    "            else:\n",
    "                if s_C == []:\n",
    "                    s_C.append(ch)\n",
    "                elif s_c != []:\n",
    "                    index = 0\n",
    "                    var = 0\n",
    "                    for i in s_C:\n",
    "                        if not ch in i:\n",
    "                            s_C[index] += ch\n",
    "                            var = 1\n",
    "                            break\n",
    "                        index += 1\n",
    "                    if var == 0:\n",
    "                        s_C.append(ch)\n",
    "        else:\n",
    "            raise Exception('the string should only contain numbers or letters'.format(x))\n",
    "    print(s_c)\n",
    "    \n",
    "    s_n2 = []\n",
    "    s_c2 = []\n",
    "    s_C2 = []\n",
    "    \n",
    "    s_n3 = ''\n",
    "    s_c3 = ''\n",
    "    s_C3 = ''\n",
    "    \n",
    "    for i in s_n:\n",
    "        s_n2.append(''.join(sorted(i, key = int)))\n",
    "        s_n3 += '-'.join(sorted(s_n2,key=int))\n",
    "    \n",
    "    for j in s_c:\n",
    "        s_c2.append(''.join(sorted(j)))\n",
    "        s_c3 += '-'.join(sorted(s_c2)) \n",
    "    \n",
    "    for k in s_C:\n",
    "        s_C2.append(''.join(sorted(k)))\n",
    "        s_C3 += '-'.join(sorted(s_C))\n",
    "    \n",
    "    final = s_c3 + s_C3 + s_n3\n",
    "        \n",
    "    return final\n"
   ]
  },
  {
   "cell_type": "code",
   "execution_count": 5,
   "metadata": {},
   "outputs": [
    {
     "name": "stdout",
     "output_type": "stream",
     "text": [
      "['xz']\n"
     ]
    },
    {
     "data": {
      "text/plain": [
       "'xzAB12'"
      ]
     },
     "execution_count": 5,
     "metadata": {},
     "output_type": "execute_result"
    }
   ],
   "source": [
    "blocks(\"21AxBz\")\n"
   ]
  },
  {
   "cell_type": "code",
   "execution_count": 6,
   "metadata": {},
   "outputs": [
    {
     "name": "stdout",
     "output_type": "stream",
     "text": [
      "['abcd', 'a', 'a']\n"
     ]
    },
    {
     "data": {
      "text/plain": [
       "'abcda-abcda-a-abcd'"
      ]
     },
     "execution_count": 6,
     "metadata": {},
     "output_type": "execute_result"
    }
   ],
   "source": [
    "blocks(\"abacad\")"
   ]
  },
  {
   "cell_type": "code",
   "execution_count": 135,
   "metadata": {},
   "outputs": [
    {
     "data": {
      "text/plain": [
       "''"
      ]
     },
     "execution_count": 135,
     "metadata": {},
     "output_type": "execute_result"
    }
   ],
   "source": [
    "blocks(\"\")"
   ]
  },
  {
   "cell_type": "code",
   "execution_count": null,
   "metadata": {},
   "outputs": [],
   "source": []
  }
 ],
 "metadata": {
  "kernelspec": {
   "display_name": "Python 3",
   "language": "python",
   "name": "python3"
  },
  "language_info": {
   "codemirror_mode": {
    "name": "ipython",
    "version": 3
   },
   "file_extension": ".py",
   "mimetype": "text/x-python",
   "name": "python",
   "nbconvert_exporter": "python",
   "pygments_lexer": "ipython3",
   "version": "3.7.3"
  }
 },
 "nbformat": 4,
 "nbformat_minor": 2
}
